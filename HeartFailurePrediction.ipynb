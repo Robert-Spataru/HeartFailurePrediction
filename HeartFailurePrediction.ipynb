{
 "cells": [
  {
   "cell_type": "code",
   "execution_count": 16,
   "id": "initial_id",
   "metadata": {
    "collapsed": true,
    "ExecuteTime": {
     "end_time": "2024-01-08T04:17:11.467667Z",
     "start_time": "2024-01-08T04:17:11.461769Z"
    }
   },
   "outputs": [],
   "source": [
    "#import python/ml modules\n",
    "import pandas as pd\n",
    "from sklearn.preprocessing import StandardScaler, LabelEncoder\n",
    "from sklearn.model_selection import train_test_split\n",
    "from collections import Counter\n",
    "from sklearn.compose import ColumnTransformer\n",
    "from tensorflow.keras.models import Sequential\n",
    "from tensorflow.keras.layers import Dense, InputLayer\n",
    "from sklearn.metrics import classification_report\n",
    "from tensorflow.keras.utils import to_categorical\n",
    "import numpy as np"
   ]
  },
  {
   "cell_type": "code",
   "outputs": [
    {
     "name": "stdout",
     "output_type": "stream",
     "text": [
      "<class 'pandas.core.frame.DataFrame'>\n",
      "RangeIndex: 299 entries, 0 to 298\n",
      "Data columns (total 13 columns):\n",
      " #   Column                    Non-Null Count  Dtype  \n",
      "---  ------                    --------------  -----  \n",
      " 0   age                       299 non-null    float64\n",
      " 1   anaemia                   299 non-null    int64  \n",
      " 2   creatinine_phosphokinase  299 non-null    int64  \n",
      " 3   diabetes                  299 non-null    int64  \n",
      " 4   ejection_fraction         299 non-null    int64  \n",
      " 5   high_blood_pressure       299 non-null    int64  \n",
      " 6   platelets                 299 non-null    float64\n",
      " 7   serum_creatinine          299 non-null    float64\n",
      " 8   serum_sodium              299 non-null    int64  \n",
      " 9   sex                       299 non-null    int64  \n",
      " 10  smoking                   299 non-null    int64  \n",
      " 11  time                      299 non-null    int64  \n",
      " 12  DEATH_EVENT               299 non-null    int64  \n",
      "dtypes: float64(3), int64(10)\n",
      "memory usage: 30.5 KB\n",
      "None\n"
     ]
    }
   ],
   "source": [
    "#loading the data\n",
    "\n",
    "data = pd.read_csv('heart_failure.csv')\n",
    "#print columns and their types\n",
    "print(data.info())"
   ],
   "metadata": {
    "collapsed": false,
    "ExecuteTime": {
     "end_time": "2024-01-08T04:17:11.510904Z",
     "start_time": "2024-01-08T04:17:11.469649Z"
    }
   },
   "id": "115f81d3516e1890",
   "execution_count": 17
  },
  {
   "cell_type": "code",
   "outputs": [
    {
     "name": "stdout",
     "output_type": "stream",
     "text": [
      "Counter({0: 203, 1: 96})\n"
     ]
    }
   ],
   "source": [
    "#print out the distribution of the death_event column\n",
    "print(Counter(data['DEATH_EVENT']))\n",
    "#extract features and labels\n",
    "x = data[['age','anaemia','creatinine_phosphokinase','diabetes','ejection_fraction','high_blood_pressure','platelets','serum_creatinine','serum_sodium','sex','smoking','time']]\n",
    "y = data['DEATH_EVENT']"
   ],
   "metadata": {
    "collapsed": false,
    "ExecuteTime": {
     "end_time": "2024-01-08T04:17:11.514109Z",
     "start_time": "2024-01-08T04:17:11.512522Z"
    }
   },
   "id": "f52b66a1a3630e1e",
   "execution_count": 18
  },
  {
   "cell_type": "code",
   "outputs": [],
   "source": [
    "#data preprocessing\n",
    "\n",
    "#convert categorical features in x to one-hot encoding vectors\n",
    "x = pd.get_dummies(x)\n",
    "#split data into training and testing categories\n",
    "x_train, x_test, y_train, y_test = train_test_split(x, y, test_size = 0.2, random_state = 0)"
   ],
   "metadata": {
    "collapsed": false,
    "ExecuteTime": {
     "end_time": "2024-01-08T04:17:11.524286Z",
     "start_time": "2024-01-08T04:17:11.521469Z"
    }
   },
   "id": "2d488582711582a1",
   "execution_count": 19
  },
  {
   "cell_type": "code",
   "outputs": [],
   "source": [
    "#scale the numerical features in the dataset\n",
    "ct = ColumnTransformer([(\"numeric\", StandardScaler(), ['age','creatinine_phosphokinase','ejection_fraction','platelets','serum_creatinine','serum_sodium','time'])])\n",
    "#train the scaler on the training data\n",
    "x_train = ct.fit_transform(x_train)\n",
    "#scale the test data instance\n",
    "x_test = ct.transform(x_test)"
   ],
   "metadata": {
    "collapsed": false,
    "ExecuteTime": {
     "end_time": "2024-01-08T04:17:11.570405Z",
     "start_time": "2024-01-08T04:17:11.525247Z"
    }
   },
   "id": "4b55bf06b635e435",
   "execution_count": 20
  },
  {
   "cell_type": "code",
   "outputs": [],
   "source": [
    "#encode training and test labels\n",
    "le = LabelEncoder()\n",
    "y_train = le.fit_transform(y_train)\n",
    "y_test = le.transform(y_test)\n",
    "#transform the encoded training and test labels\n",
    "y_train = to_categorical(y_train)\n",
    "y_test = to_categorical(y_test)"
   ],
   "metadata": {
    "collapsed": false,
    "ExecuteTime": {
     "end_time": "2024-01-08T04:17:11.570670Z",
     "start_time": "2024-01-08T04:17:11.531528Z"
    }
   },
   "id": "4301546a4cb734d",
   "execution_count": 21
  },
  {
   "cell_type": "code",
   "outputs": [],
   "source": [
    "#designing the model\n",
    "\n",
    "model = Sequential()\n",
    "model.add(InputLayer(input_shape = (x_train.shape[1], )))\n",
    "model.add(Dense(12, activation = 'relu'))\n",
    "model.add(Dense(2, activation = 'softmax'))\n",
    "model.compile(loss = 'categorical_crossentropy', optimizer = 'adam', metrics = ['accuracy'])"
   ],
   "metadata": {
    "collapsed": false,
    "ExecuteTime": {
     "end_time": "2024-01-08T04:17:11.794841Z",
     "start_time": "2024-01-08T04:17:11.550037Z"
    }
   },
   "id": "5ef6e04967c6e3dc",
   "execution_count": 22
  },
  {
   "cell_type": "code",
   "outputs": [
    {
     "name": "stdout",
     "output_type": "stream",
     "text": [
      "Epoch 1/100\n",
      "15/15 [==============================] - 0s 619us/step - loss: 0.7909 - accuracy: 0.4603\n",
      "Epoch 2/100\n",
      "15/15 [==============================] - 0s 488us/step - loss: 0.7481 - accuracy: 0.5188\n",
      "Epoch 3/100\n",
      "15/15 [==============================] - 0s 443us/step - loss: 0.7142 - accuracy: 0.5523\n",
      "Epoch 4/100\n",
      "15/15 [==============================] - 0s 390us/step - loss: 0.6826 - accuracy: 0.6276\n",
      "Epoch 5/100\n",
      "15/15 [==============================] - 0s 362us/step - loss: 0.6546 - accuracy: 0.6736\n",
      "Epoch 6/100\n",
      "15/15 [==============================] - 0s 595us/step - loss: 0.6287 - accuracy: 0.7322\n",
      "Epoch 7/100\n",
      "15/15 [==============================] - 0s 528us/step - loss: 0.6070 - accuracy: 0.7573\n",
      "Epoch 8/100\n",
      "15/15 [==============================] - 0s 483us/step - loss: 0.5847 - accuracy: 0.7741\n",
      "Epoch 9/100\n",
      "15/15 [==============================] - 0s 362us/step - loss: 0.5657 - accuracy: 0.7741\n",
      "Epoch 10/100\n",
      "15/15 [==============================] - 0s 344us/step - loss: 0.5474 - accuracy: 0.7741\n",
      "Epoch 11/100\n",
      "15/15 [==============================] - 0s 376us/step - loss: 0.5298 - accuracy: 0.7782\n",
      "Epoch 12/100\n",
      "15/15 [==============================] - 0s 332us/step - loss: 0.5149 - accuracy: 0.7866\n",
      "Epoch 13/100\n",
      "15/15 [==============================] - 0s 336us/step - loss: 0.5012 - accuracy: 0.7950\n",
      "Epoch 14/100\n",
      "15/15 [==============================] - 0s 447us/step - loss: 0.4873 - accuracy: 0.8033\n",
      "Epoch 15/100\n",
      "15/15 [==============================] - 0s 472us/step - loss: 0.4751 - accuracy: 0.8033\n",
      "Epoch 16/100\n",
      "15/15 [==============================] - 0s 441us/step - loss: 0.4640 - accuracy: 0.8075\n",
      "Epoch 17/100\n",
      "15/15 [==============================] - 0s 415us/step - loss: 0.4538 - accuracy: 0.8159\n",
      "Epoch 18/100\n",
      "15/15 [==============================] - 0s 350us/step - loss: 0.4453 - accuracy: 0.8243\n",
      "Epoch 19/100\n",
      "15/15 [==============================] - 0s 369us/step - loss: 0.4369 - accuracy: 0.8243\n",
      "Epoch 20/100\n",
      "15/15 [==============================] - 0s 343us/step - loss: 0.4298 - accuracy: 0.8243\n",
      "Epoch 21/100\n",
      "15/15 [==============================] - 0s 363us/step - loss: 0.4226 - accuracy: 0.8285\n",
      "Epoch 22/100\n",
      "15/15 [==============================] - 0s 344us/step - loss: 0.4177 - accuracy: 0.8368\n",
      "Epoch 23/100\n",
      "15/15 [==============================] - 0s 346us/step - loss: 0.4115 - accuracy: 0.8368\n",
      "Epoch 24/100\n",
      "15/15 [==============================] - 0s 332us/step - loss: 0.4072 - accuracy: 0.8326\n",
      "Epoch 25/100\n",
      "15/15 [==============================] - 0s 342us/step - loss: 0.4019 - accuracy: 0.8368\n",
      "Epoch 26/100\n",
      "15/15 [==============================] - 0s 350us/step - loss: 0.3977 - accuracy: 0.8368\n",
      "Epoch 27/100\n",
      "15/15 [==============================] - 0s 348us/step - loss: 0.3939 - accuracy: 0.8452\n",
      "Epoch 28/100\n",
      "15/15 [==============================] - 0s 347us/step - loss: 0.3902 - accuracy: 0.8410\n",
      "Epoch 29/100\n",
      "15/15 [==============================] - 0s 393us/step - loss: 0.3867 - accuracy: 0.8452\n",
      "Epoch 30/100\n",
      "15/15 [==============================] - 0s 441us/step - loss: 0.3835 - accuracy: 0.8452\n",
      "Epoch 31/100\n",
      "15/15 [==============================] - 0s 430us/step - loss: 0.3804 - accuracy: 0.8452\n",
      "Epoch 32/100\n",
      "15/15 [==============================] - 0s 382us/step - loss: 0.3782 - accuracy: 0.8452\n",
      "Epoch 33/100\n",
      "15/15 [==============================] - 0s 344us/step - loss: 0.3750 - accuracy: 0.8494\n",
      "Epoch 34/100\n",
      "15/15 [==============================] - 0s 325us/step - loss: 0.3728 - accuracy: 0.8494\n",
      "Epoch 35/100\n",
      "15/15 [==============================] - 0s 317us/step - loss: 0.3704 - accuracy: 0.8494\n",
      "Epoch 36/100\n",
      "15/15 [==============================] - 0s 315us/step - loss: 0.3684 - accuracy: 0.8494\n",
      "Epoch 37/100\n",
      "15/15 [==============================] - 0s 366us/step - loss: 0.3666 - accuracy: 0.8494\n",
      "Epoch 38/100\n",
      "15/15 [==============================] - 0s 348us/step - loss: 0.3652 - accuracy: 0.8494\n",
      "Epoch 39/100\n",
      "15/15 [==============================] - 0s 338us/step - loss: 0.3626 - accuracy: 0.8494\n",
      "Epoch 40/100\n",
      "15/15 [==============================] - 0s 368us/step - loss: 0.3611 - accuracy: 0.8494\n",
      "Epoch 41/100\n",
      "15/15 [==============================] - 0s 359us/step - loss: 0.3593 - accuracy: 0.8494\n",
      "Epoch 42/100\n",
      "15/15 [==============================] - 0s 345us/step - loss: 0.3578 - accuracy: 0.8494\n",
      "Epoch 43/100\n",
      "15/15 [==============================] - 0s 335us/step - loss: 0.3562 - accuracy: 0.8494\n",
      "Epoch 44/100\n",
      "15/15 [==============================] - 0s 333us/step - loss: 0.3549 - accuracy: 0.8494\n",
      "Epoch 45/100\n",
      "15/15 [==============================] - 0s 362us/step - loss: 0.3531 - accuracy: 0.8494\n",
      "Epoch 46/100\n",
      "15/15 [==============================] - 0s 320us/step - loss: 0.3518 - accuracy: 0.8494\n",
      "Epoch 47/100\n",
      "15/15 [==============================] - 0s 364us/step - loss: 0.3505 - accuracy: 0.8494\n",
      "Epoch 48/100\n",
      "15/15 [==============================] - 0s 342us/step - loss: 0.3490 - accuracy: 0.8494\n",
      "Epoch 49/100\n",
      "15/15 [==============================] - 0s 349us/step - loss: 0.3482 - accuracy: 0.8494\n",
      "Epoch 50/100\n",
      "15/15 [==============================] - 0s 334us/step - loss: 0.3464 - accuracy: 0.8494\n",
      "Epoch 51/100\n",
      "15/15 [==============================] - 0s 390us/step - loss: 0.3455 - accuracy: 0.8494\n",
      "Epoch 52/100\n",
      "15/15 [==============================] - 0s 373us/step - loss: 0.3443 - accuracy: 0.8494\n",
      "Epoch 53/100\n",
      "15/15 [==============================] - 0s 340us/step - loss: 0.3428 - accuracy: 0.8494\n",
      "Epoch 54/100\n",
      "15/15 [==============================] - 0s 411us/step - loss: 0.3418 - accuracy: 0.8494\n",
      "Epoch 55/100\n",
      "15/15 [==============================] - 0s 328us/step - loss: 0.3406 - accuracy: 0.8494\n",
      "Epoch 56/100\n",
      "15/15 [==============================] - 0s 373us/step - loss: 0.3394 - accuracy: 0.8494\n",
      "Epoch 57/100\n",
      "15/15 [==============================] - 0s 368us/step - loss: 0.3388 - accuracy: 0.8494\n",
      "Epoch 58/100\n",
      "15/15 [==============================] - 0s 352us/step - loss: 0.3376 - accuracy: 0.8494\n",
      "Epoch 59/100\n",
      "15/15 [==============================] - 0s 368us/step - loss: 0.3364 - accuracy: 0.8494\n",
      "Epoch 60/100\n",
      "15/15 [==============================] - 0s 331us/step - loss: 0.3355 - accuracy: 0.8494\n",
      "Epoch 61/100\n",
      "15/15 [==============================] - 0s 354us/step - loss: 0.3348 - accuracy: 0.8494\n",
      "Epoch 62/100\n",
      "15/15 [==============================] - 0s 361us/step - loss: 0.3336 - accuracy: 0.8494\n",
      "Epoch 63/100\n",
      "15/15 [==============================] - 0s 339us/step - loss: 0.3325 - accuracy: 0.8494\n",
      "Epoch 64/100\n",
      "15/15 [==============================] - 0s 338us/step - loss: 0.3322 - accuracy: 0.8494\n",
      "Epoch 65/100\n",
      "15/15 [==============================] - 0s 350us/step - loss: 0.3309 - accuracy: 0.8494\n",
      "Epoch 66/100\n",
      "15/15 [==============================] - 0s 346us/step - loss: 0.3302 - accuracy: 0.8494\n",
      "Epoch 67/100\n",
      "15/15 [==============================] - 0s 362us/step - loss: 0.3296 - accuracy: 0.8452\n",
      "Epoch 68/100\n",
      "15/15 [==============================] - 0s 338us/step - loss: 0.3286 - accuracy: 0.8494\n",
      "Epoch 69/100\n",
      "15/15 [==============================] - 0s 329us/step - loss: 0.3276 - accuracy: 0.8452\n",
      "Epoch 70/100\n",
      "15/15 [==============================] - 0s 362us/step - loss: 0.3274 - accuracy: 0.8494\n",
      "Epoch 71/100\n",
      "15/15 [==============================] - 0s 401us/step - loss: 0.3260 - accuracy: 0.8494\n",
      "Epoch 72/100\n",
      "15/15 [==============================] - 0s 385us/step - loss: 0.3253 - accuracy: 0.8494\n",
      "Epoch 73/100\n",
      "15/15 [==============================] - 0s 350us/step - loss: 0.3246 - accuracy: 0.8494\n",
      "Epoch 74/100\n",
      "15/15 [==============================] - 0s 364us/step - loss: 0.3243 - accuracy: 0.8536\n",
      "Epoch 75/100\n",
      "15/15 [==============================] - 0s 337us/step - loss: 0.3237 - accuracy: 0.8536\n",
      "Epoch 76/100\n",
      "15/15 [==============================] - 0s 346us/step - loss: 0.3228 - accuracy: 0.8536\n",
      "Epoch 77/100\n",
      "15/15 [==============================] - 0s 395us/step - loss: 0.3221 - accuracy: 0.8536\n",
      "Epoch 78/100\n",
      "15/15 [==============================] - 0s 348us/step - loss: 0.3218 - accuracy: 0.8536\n",
      "Epoch 79/100\n",
      "15/15 [==============================] - 0s 370us/step - loss: 0.3217 - accuracy: 0.8536\n",
      "Epoch 80/100\n",
      "15/15 [==============================] - 0s 332us/step - loss: 0.3202 - accuracy: 0.8577\n",
      "Epoch 81/100\n",
      "15/15 [==============================] - 0s 297us/step - loss: 0.3196 - accuracy: 0.8577\n",
      "Epoch 82/100\n",
      "15/15 [==============================] - 0s 309us/step - loss: 0.3193 - accuracy: 0.8494\n",
      "Epoch 83/100\n",
      "15/15 [==============================] - 0s 320us/step - loss: 0.3183 - accuracy: 0.8494\n",
      "Epoch 84/100\n",
      "15/15 [==============================] - 0s 434us/step - loss: 0.3185 - accuracy: 0.8494\n",
      "Epoch 85/100\n",
      "15/15 [==============================] - 0s 756us/step - loss: 0.3179 - accuracy: 0.8536\n",
      "Epoch 86/100\n",
      "15/15 [==============================] - 0s 599us/step - loss: 0.3171 - accuracy: 0.8577\n",
      "Epoch 87/100\n",
      "15/15 [==============================] - 0s 458us/step - loss: 0.3164 - accuracy: 0.8577\n",
      "Epoch 88/100\n",
      "15/15 [==============================] - 0s 859us/step - loss: 0.3161 - accuracy: 0.8577\n",
      "Epoch 89/100\n",
      "15/15 [==============================] - 0s 474us/step - loss: 0.3156 - accuracy: 0.8536\n",
      "Epoch 90/100\n",
      "15/15 [==============================] - 0s 469us/step - loss: 0.3153 - accuracy: 0.8494\n",
      "Epoch 91/100\n",
      "15/15 [==============================] - 0s 522us/step - loss: 0.3147 - accuracy: 0.8494\n",
      "Epoch 92/100\n",
      "15/15 [==============================] - 0s 529us/step - loss: 0.3144 - accuracy: 0.8494\n",
      "Epoch 93/100\n",
      "15/15 [==============================] - 0s 889us/step - loss: 0.3139 - accuracy: 0.8494\n",
      "Epoch 94/100\n",
      "15/15 [==============================] - 0s 926us/step - loss: 0.3130 - accuracy: 0.8536\n",
      "Epoch 95/100\n",
      "15/15 [==============================] - 0s 875us/step - loss: 0.3128 - accuracy: 0.8536\n",
      "Epoch 96/100\n",
      "15/15 [==============================] - 0s 464us/step - loss: 0.3121 - accuracy: 0.8536\n",
      "Epoch 97/100\n",
      "15/15 [==============================] - 0s 509us/step - loss: 0.3120 - accuracy: 0.8494\n",
      "Epoch 98/100\n",
      "15/15 [==============================] - 0s 1ms/step - loss: 0.3121 - accuracy: 0.8494\n",
      "Epoch 99/100\n",
      "15/15 [==============================] - 0s 1ms/step - loss: 0.3114 - accuracy: 0.8536\n",
      "Epoch 100/100\n",
      "15/15 [==============================] - 0s 668us/step - loss: 0.3109 - accuracy: 0.8494\n",
      "Test loss: 0.4280754327774048\n",
      "Test accuracy: 0.7833333611488342\n"
     ]
    }
   ],
   "source": [
    "#train and evaluate the model\n",
    "\n",
    "model.fit(x_train, y_train, batch_size = 16, epochs = 100)\n",
    "loss, acc = model.evaluate(x_test, y_test, verbose = 0)\n",
    "print('Test loss:', loss)\n",
    "print('Test accuracy:', acc)"
   ],
   "metadata": {
    "collapsed": false,
    "ExecuteTime": {
     "end_time": "2024-01-08T04:20:26.836787Z",
     "start_time": "2024-01-08T04:20:25.628074Z"
    }
   },
   "id": "619544bcf0634451",
   "execution_count": 23
  },
  {
   "cell_type": "code",
   "outputs": [
    {
     "name": "stdout",
     "output_type": "stream",
     "text": [
      "2/2 [==============================] - 0s 911us/step\n",
      "              precision    recall  f1-score   support\n",
      "\n",
      "           0       0.76      0.95      0.84        37\n",
      "           1       0.86      0.52      0.65        23\n",
      "\n",
      "    accuracy                           0.78        60\n",
      "   macro avg       0.81      0.73      0.75        60\n",
      "weighted avg       0.80      0.78      0.77        60\n"
     ]
    }
   ],
   "source": [
    "#generating a classification report\n",
    "y_estimate = model.predict(x_test)\n",
    "y_estimate = np.argmax(y_estimate, axis = 1)\n",
    "y_true = np.argmax(y_test, axis = 1)\n",
    "print(classification_report(y_true, y_estimate))"
   ],
   "metadata": {
    "collapsed": false,
    "ExecuteTime": {
     "end_time": "2024-01-08T04:23:04.650072Z",
     "start_time": "2024-01-08T04:23:04.563060Z"
    }
   },
   "id": "d6fb36c35b2a79d0",
   "execution_count": 24
  }
 ],
 "metadata": {
  "kernelspec": {
   "display_name": "Python 3",
   "language": "python",
   "name": "python3"
  },
  "language_info": {
   "codemirror_mode": {
    "name": "ipython",
    "version": 2
   },
   "file_extension": ".py",
   "mimetype": "text/x-python",
   "name": "python",
   "nbconvert_exporter": "python",
   "pygments_lexer": "ipython2",
   "version": "2.7.6"
  }
 },
 "nbformat": 4,
 "nbformat_minor": 5
}
